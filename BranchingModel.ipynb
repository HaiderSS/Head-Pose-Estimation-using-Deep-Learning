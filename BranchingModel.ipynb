{
 "cells": [
  {
   "cell_type": "code",
   "execution_count": 1,
   "metadata": {},
   "outputs": [
    {
     "data": {
      "text/plain": [
       "'2.3.0'"
      ]
     },
     "execution_count": 1,
     "metadata": {},
     "output_type": "execute_result"
    }
   ],
   "source": [
    "# All imports\n",
    "\n",
    "# General\n",
    "import pandas as pd\n",
    "import numpy as np\n",
    "import sklearn\n",
    "from sklearn.ensemble import RandomForestClassifier\n",
    "from sklearn.svm import SVC\n",
    "from sklearn.cluster import KMeans\n",
    "from sklearn.utils import class_weight\n",
    "from sklearn.model_selection import train_test_split\n",
    "from sklearn.metrics import accuracy_score\n",
    "from sklearn.preprocessing import LabelBinarizer\n",
    "from keras.layers import Input\n",
    "from keras.utils import to_categorical\n",
    "from sklearn.preprocessing import LabelEncoder\n",
    "from keras.utils import to_categorical\n",
    "import tensorflow.keras\n",
    "\n",
    "# For CNN\n",
    "from tensorflow.keras.models import Sequential, Model\n",
    "from tensorflow.keras.layers import Activation, Dropout, Flatten, Dense\n",
    "from tensorflow.keras import regularizers, optimizers\n",
    "from tensorflow.keras.layers import BatchNormalization\n",
    "from tensorflow.keras.layers import Conv2D\n",
    "from tensorflow.keras.layers import MaxPooling2D\n",
    "from tensorflow.keras.metrics import categorical_accuracy\n",
    "from tensorflow.keras.preprocessing.image import ImageDataGenerator\n",
    "\n",
    "# For handling Images\n",
    "import IPython.display as display\n",
    "from PIL import Image\n",
    "import matplotlib.pyplot as plt\n",
    "import os\n",
    "import cv2\n",
    "import albumentations as A\n",
    "from albumentations import (VerticalFlip, HorizontalFlip, Flip, RandomRotate90, Rotate, ShiftScaleRotate, CenterCrop, OpticalDistortion, GridDistortion, ElasticTransform, JpegCompression, HueSaturationValue,\n",
    "                            RGBShift, RandomBrightness, RandomContrast, Blur, MotionBlur, MedianBlur, GaussNoise, CLAHE, ChannelShuffle, InvertImg, RandomGamma, ToGray, PadIfNeeded \n",
    "                           )\n",
    "import glob\n",
    "import seaborn as sns\n",
    "import keras\n",
    "\n",
    "# Tensorflow\n",
    "import tensorflow as tf\n",
    "# AUTOTUNE = tf.data.experimental.AUTOTUNE\n",
    "tf.__version__"
   ]
  },
  {
   "cell_type": "markdown",
   "metadata": {},
   "source": [
    "### Functions"
   ]
  },
  {
   "cell_type": "code",
   "execution_count": 2,
   "metadata": {},
   "outputs": [],
   "source": [
    "def load_file(filename):\n",
    "    return pd.read_csv(\"Data/\" + filename)"
   ]
  },
  {
   "cell_type": "code",
   "execution_count": 3,
   "metadata": {},
   "outputs": [],
   "source": [
    "# augmenting training images\n",
    "\n",
    "def augment_images(aug, image, mask=None, bboxes=[], categories=[], category_id_to_name=[], filename=None, \n",
    "                     font_scale_orig=0.35, font_scale_aug=0.35, show_title=True, **kwargs):\n",
    "\n",
    "    augmented = aug(image=image)\n",
    "\n",
    "    return augmented['image']"
   ]
  },
  {
   "cell_type": "code",
   "execution_count": 4,
   "metadata": {},
   "outputs": [],
   "source": [
    "# generating images, normalising and resizing images as well\n",
    "\n",
    "def generate_data(data):\n",
    "    \n",
    "    x = []\n",
    "    for i in range(len(data)):\n",
    "        im = Image.open(data.iloc[i,0])\n",
    "        im = im.resize((144,144))               \n",
    "        im = np.array(im)\n",
    "        im = im.astype('float32')\n",
    "        im = im/255.0                \n",
    "        x.append(im)\n",
    "    x_train = np.array(x)\n",
    "    \n",
    "    return x_train"
   ]
  },
  {
   "cell_type": "code",
   "execution_count": 5,
   "metadata": {},
   "outputs": [],
   "source": [
    "# Label Binarizer for Y label\n",
    "\n",
    "def label_binarizer(y_train, y_test):\n",
    "    le = LabelBinarizer()\n",
    "    le.fit(y_train)\n",
    "    y_train_enc = le.fit_transform(y_train)\n",
    "    y_test_enc = le.fit_transform(y_test)\n",
    "    return pd.DataFrame(y_train_enc), pd.DataFrame(y_test_enc)"
   ]
  },
  {
   "cell_type": "code",
   "execution_count": 6,
   "metadata": {},
   "outputs": [],
   "source": [
    "def label_encoding(y):\n",
    "    le = LabelEncoder()\n",
    "    y = le.fit_transform(y)  \n",
    "    return y, le"
   ]
  },
  {
   "cell_type": "code",
   "execution_count": 7,
   "metadata": {},
   "outputs": [],
   "source": [
    "# unzipping files\n",
    "\n",
    "# import zipfile\n",
    "# with zipfile.ZipFile('./m_data.zip', 'r') as zip_ref:\n",
    "#     zip_ref.extractall('./')"
   ]
  },
  {
   "cell_type": "markdown",
   "metadata": {},
   "source": [
    "### Cleaning and Handling Data"
   ]
  },
  {
   "cell_type": "code",
   "execution_count": 8,
   "metadata": {},
   "outputs": [],
   "source": [
    "# loading training data\n",
    "\n",
    "df = load_file(\"train_data.csv\")"
   ]
  },
  {
   "cell_type": "code",
   "execution_count": 9,
   "metadata": {},
   "outputs": [],
   "source": [
    "# renaming column\n",
    "\n",
    "df = df.rename(columns={'filename': 'filepath'})\n",
    "# df1 = df1.rename(columns={'filename': 'filepath'})"
   ]
  },
  {
   "cell_type": "code",
   "execution_count": 10,
   "metadata": {},
   "outputs": [],
   "source": [
    "# adding path \n",
    "\n",
    "df.filepath = 'face_data/'+ df.filepath\n",
    "# df1.filepath = 'Data/face_data/'+ df1.filepath"
   ]
  },
  {
   "cell_type": "code",
   "execution_count": 11,
   "metadata": {},
   "outputs": [],
   "source": [
    "# removing unnessary columns\n",
    "\n",
    "df.drop(['person_id', 'series'], axis=1, inplace=True)\n",
    "# df1.drop(['person_id', 'series'], axis=1, inplace=True)"
   ]
  },
  {
   "cell_type": "code",
   "execution_count": 12,
   "metadata": {},
   "outputs": [],
   "source": [
    "trainData, valData = train_test_split(df,test_size=0.20,  random_state=42)"
   ]
  },
  {
   "cell_type": "code",
   "execution_count": 13,
   "metadata": {},
   "outputs": [],
   "source": [
    "# augmenting only training images \n",
    "\n",
    "for index, row in trainData.iterrows():\n",
    "    im = cv2.imread(row['filepath'])\n",
    "    for i in range(5):\n",
    "        light = A.Compose([\n",
    "            A.RandomBrightnessContrast(p=0.5),\n",
    "            A.RGBShift(p=0.5),\n",
    "            A.RandomGamma(p=0.5),\n",
    "            A.HueSaturationValue(hue_shift_limit=20, sat_shift_limit=50, val_shift_limit=50, p=0.5),\n",
    "            A.CLAHE(p=0.5),    \n",
    "        ], p=1)\n",
    "        \n",
    "        augmented = augment_images(light, im)\n",
    "        f = 'face_data/' + str(i) + row['filepath'].split('/')[-1]\n",
    "        cv2.imwrite('face_data/' + str(i) + row['filepath'].split('/')[-1], augmented)\n",
    "        trainData = trainData.append({'filepath' : f, 'tilt' : row['tilt'], 'pan' : row['pan'] }, ignore_index=True)"
   ]
  },
  {
   "cell_type": "code",
   "execution_count": 14,
   "metadata": {},
   "outputs": [
    {
     "name": "stdout",
     "output_type": "stream",
     "text": [
      "(11160, 3)\n",
      "(465, 3)\n"
     ]
    }
   ],
   "source": [
    "print(trainData.shape)\n",
    "print(valData.shape)"
   ]
  },
  {
   "cell_type": "code",
   "execution_count": 15,
   "metadata": {},
   "outputs": [],
   "source": [
    "# generating xdata \n",
    "\n",
    "x_train =  generate_data(trainData)\n",
    "x_val =  generate_data(valData)"
   ]
  },
  {
   "cell_type": "code",
   "execution_count": 16,
   "metadata": {},
   "outputs": [],
   "source": [
    "# generating ydata\n",
    "\n",
    "y_train = trainData.iloc[:,1:]\n",
    "y_val = valData.iloc[:,1:]"
   ]
  },
  {
   "cell_type": "code",
   "execution_count": 17,
   "metadata": {},
   "outputs": [
    {
     "name": "stdout",
     "output_type": "stream",
     "text": [
      "(11160, 144, 144, 3)\n",
      "(465, 144, 144, 3)\n",
      "(11160, 2)\n",
      "(465, 2)\n"
     ]
    }
   ],
   "source": [
    "print(x_train.shape)\n",
    "print(x_val.shape)\n",
    "print(y_train.shape)\n",
    "print(y_val.shape)"
   ]
  },
  {
   "cell_type": "markdown",
   "metadata": {},
   "source": [
    "### Label encode"
   ]
  },
  {
   "cell_type": "code",
   "execution_count": 18,
   "metadata": {},
   "outputs": [],
   "source": [
    "# Label encoding our categorical target variables to numerical form\n",
    "\n",
    "y_tilt_train, le_tilt = label_encoding(y_train['tilt'])\n",
    "y_tilt_val = le_tilt.transform(y_val['tilt'])\n",
    "y_pan_train, le_pan = label_encoding(y_train['pan'])\n",
    "y_pan_val = le_pan.transform(y_val['pan'])"
   ]
  },
  {
   "cell_type": "code",
   "execution_count": 19,
   "metadata": {},
   "outputs": [],
   "source": [
    "y_tilt_train = keras.utils.to_categorical(y_tilt_train, len(le_tilt.classes_))\n",
    "y_pan_train = keras.utils.to_categorical(y_pan_train, len(le_pan.classes_))\n",
    "y_tilt_val = keras.utils.to_categorical(y_tilt_val, len(le_tilt.classes_))\n",
    "y_pan_val = keras.utils.to_categorical(y_pan_val, len(le_pan.classes_))"
   ]
  },
  {
   "cell_type": "code",
   "execution_count": 20,
   "metadata": {},
   "outputs": [],
   "source": [
    "y_train = [np.array(y_tilt_train), np.array(y_pan_train)]\n",
    "y_val = [np.array(y_tilt_val), np.array(y_pan_val)]"
   ]
  },
  {
   "cell_type": "markdown",
   "metadata": {},
   "source": [
    "### Model creation"
   ]
  },
  {
   "cell_type": "code",
   "execution_count": 21,
   "metadata": {},
   "outputs": [
    {
     "name": "stdout",
     "output_type": "stream",
     "text": [
      "Model: \"models\"\n",
      "__________________________________________________________________________________________________\n",
      "Layer (type)                    Output Shape         Param #     Connected to                     \n",
      "==================================================================================================\n",
      "input_1 (InputLayer)            [(None, 144, 144, 3) 0                                            \n",
      "__________________________________________________________________________________________________\n",
      "conv2d (Conv2D)                 (None, 142, 142, 16) 448         input_1[0][0]                    \n",
      "__________________________________________________________________________________________________\n",
      "batch_normalization (BatchNorma (None, 142, 142, 16) 64          conv2d[0][0]                     \n",
      "__________________________________________________________________________________________________\n",
      "max_pooling2d (MaxPooling2D)    (None, 141, 141, 16) 0           batch_normalization[0][0]        \n",
      "__________________________________________________________________________________________________\n",
      "conv2d_1 (Conv2D)               (None, 141, 141, 32) 4640        max_pooling2d[0][0]              \n",
      "__________________________________________________________________________________________________\n",
      "batch_normalization_2 (BatchNor (None, 141, 141, 32) 128         conv2d_1[0][0]                   \n",
      "__________________________________________________________________________________________________\n",
      "max_pooling2d_1 (MaxPooling2D)  (None, 140, 140, 32) 0           batch_normalization_2[0][0]      \n",
      "__________________________________________________________________________________________________\n",
      "flatten (Flatten)               (None, 318096)       0           max_pooling2d[0][0]              \n",
      "__________________________________________________________________________________________________\n",
      "flatten_1 (Flatten)             (None, 627200)       0           max_pooling2d_1[0][0]            \n",
      "__________________________________________________________________________________________________\n",
      "dense (Dense)                   (None, 32)           10179104    flatten[0][0]                    \n",
      "__________________________________________________________________________________________________\n",
      "dense_1 (Dense)                 (None, 32)           20070432    flatten_1[0][0]                  \n",
      "__________________________________________________________________________________________________\n",
      "batch_normalization_1 (BatchNor (None, 32)           128         dense[0][0]                      \n",
      "__________________________________________________________________________________________________\n",
      "batch_normalization_3 (BatchNor (None, 32)           128         dense_1[0][0]                    \n",
      "__________________________________________________________________________________________________\n",
      "dropout (Dropout)               (None, 32)           0           batch_normalization_1[0][0]      \n",
      "__________________________________________________________________________________________________\n",
      "dropout_1 (Dropout)             (None, 32)           0           batch_normalization_3[0][0]      \n",
      "__________________________________________________________________________________________________\n",
      "tilt (Dense)                    (None, 9)            297         dropout[0][0]                    \n",
      "__________________________________________________________________________________________________\n",
      "pan (Dense)                     (None, 13)           429         dropout_1[0][0]                  \n",
      "==================================================================================================\n",
      "Total params: 30,255,798\n",
      "Trainable params: 30,255,574\n",
      "Non-trainable params: 224\n",
      "__________________________________________________________________________________________________\n"
     ]
    }
   ],
   "source": [
    "# Branching CNN\n",
    "\n",
    "# Model 2\n",
    "\n",
    "inputs = Input(shape=x_train[0].shape)\n",
    "x = Conv2D(16, (3, 3), activation='relu')(inputs)\n",
    "x = BatchNormalization()(x)\n",
    "x = MaxPooling2D((2, 2), strides=(1, 1))(x)\n",
    "\n",
    "tiltBranch = Flatten()(x)\n",
    "tiltBranch = Dense(32, activation='relu')(tiltBranch)\n",
    "tiltBranch = BatchNormalization()(tiltBranch)\n",
    "tiltBranch = Dropout(0.5)(tiltBranch)\n",
    "tiltModel = Dense(9, activation='sigmoid', name = 'tilt')(tiltBranch)\n",
    "\n",
    "x = Conv2D(32, (3, 3), activation='relu', padding='same')(x)\n",
    "x = BatchNormalization()(x)\n",
    "x = MaxPooling2D((2, 2), strides=(1, 1))(x)\n",
    "\n",
    "panBranch = Flatten()(x)\n",
    "panBranch = Dense(32, activation='relu')(panBranch)\n",
    "panBranch = BatchNormalization()(panBranch)\n",
    "panBranch = Dropout(0.5)(panBranch)\n",
    "panModel = Dense(13, activation='sigmoid', name = 'pan')(panBranch)\n",
    "\n",
    "model = Model(inputs,[tiltModel, panModel], name='models')\n",
    "\n",
    "model.compile(optimizer='adam', loss={'tilt':'binary_crossentropy', 'pan':'binary_crossentropy'},\n",
    "              metrics={'tilt':'accuracy', 'pan':'accuracy'})\n",
    "\n",
    "model.summary()"
   ]
  },
  {
   "cell_type": "code",
   "execution_count": 22,
   "metadata": {},
   "outputs": [
    {
     "name": "stdout",
     "output_type": "stream",
     "text": [
      "Epoch 1/20\n",
      "  1/698 [..............................] - ETA: 0s - loss: 1.9033 - tilt_loss: 0.9967 - pan_loss: 0.9066 - tilt_accuracy: 0.0000e+00 - pan_accuracy: 0.0625WARNING:tensorflow:Callbacks method `on_train_batch_end` is slow compared to the batch time (batch time: 0.0109s vs `on_train_batch_end` time: 0.0219s). Check your callbacks.\n",
      "698/698 [==============================] - 21s 30ms/step - loss: 0.9550 - tilt_loss: 0.4797 - pan_loss: 0.4753 - tilt_accuracy: 0.2679 - pan_accuracy: 0.1110 - val_loss: 0.7362 - val_tilt_loss: 0.4803 - val_pan_loss: 0.2559 - val_tilt_accuracy: 0.3527 - val_pan_accuracy: 0.1892\n",
      "Epoch 2/20\n",
      "698/698 [==============================] - 20s 28ms/step - loss: 0.5001 - tilt_loss: 0.2444 - pan_loss: 0.2557 - tilt_accuracy: 0.5546 - pan_accuracy: 0.2211 - val_loss: 0.3985 - val_tilt_loss: 0.1857 - val_pan_loss: 0.2129 - val_tilt_accuracy: 0.7441 - val_pan_accuracy: 0.3204\n",
      "Epoch 3/20\n",
      "698/698 [==============================] - 20s 28ms/step - loss: 0.3767 - tilt_loss: 0.1619 - pan_loss: 0.2148 - tilt_accuracy: 0.7897 - pan_accuracy: 0.3584 - val_loss: 0.4683 - val_tilt_loss: 0.2605 - val_pan_loss: 0.2079 - val_tilt_accuracy: 0.7785 - val_pan_accuracy: 0.3290\n",
      "Epoch 4/20\n",
      "698/698 [==============================] - 20s 28ms/step - loss: 0.3028 - tilt_loss: 0.1172 - pan_loss: 0.1856 - tilt_accuracy: 0.8844 - pan_accuracy: 0.5108 - val_loss: 0.3329 - val_tilt_loss: 0.1293 - val_pan_loss: 0.2036 - val_tilt_accuracy: 0.8000 - val_pan_accuracy: 0.3075\n",
      "Epoch 5/20\n",
      "698/698 [==============================] - 20s 29ms/step - loss: 0.2433 - tilt_loss: 0.0899 - pan_loss: 0.1534 - tilt_accuracy: 0.9241 - pan_accuracy: 0.6635 - val_loss: 0.3402 - val_tilt_loss: 0.1214 - val_pan_loss: 0.2188 - val_tilt_accuracy: 0.8194 - val_pan_accuracy: 0.2710\n",
      "Epoch 6/20\n",
      "698/698 [==============================] - 20s 28ms/step - loss: 0.1922 - tilt_loss: 0.0745 - pan_loss: 0.1177 - tilt_accuracy: 0.9434 - pan_accuracy: 0.7984 - val_loss: 0.3689 - val_tilt_loss: 0.1358 - val_pan_loss: 0.2331 - val_tilt_accuracy: 0.7978 - val_pan_accuracy: 0.2215\n",
      "Epoch 7/20\n",
      "698/698 [==============================] - 20s 28ms/step - loss: 0.1616 - tilt_loss: 0.0670 - pan_loss: 0.0946 - tilt_accuracy: 0.9542 - pan_accuracy: 0.8641 - val_loss: 0.3817 - val_tilt_loss: 0.1397 - val_pan_loss: 0.2420 - val_tilt_accuracy: 0.8280 - val_pan_accuracy: 0.2280\n",
      "Epoch 8/20\n",
      "698/698 [==============================] - 20s 28ms/step - loss: 0.1365 - tilt_loss: 0.0594 - pan_loss: 0.0771 - tilt_accuracy: 0.9679 - pan_accuracy: 0.9051 - val_loss: 0.3865 - val_tilt_loss: 0.1158 - val_pan_loss: 0.2707 - val_tilt_accuracy: 0.8194 - val_pan_accuracy: 0.2129\n",
      "Epoch 9/20\n",
      "698/698 [==============================] - 20s 29ms/step - loss: 0.1255 - tilt_loss: 0.0559 - pan_loss: 0.0696 - tilt_accuracy: 0.9728 - pan_accuracy: 0.9185 - val_loss: 0.4410 - val_tilt_loss: 0.1355 - val_pan_loss: 0.3055 - val_tilt_accuracy: 0.8280 - val_pan_accuracy: 0.2108\n",
      "Epoch 10/20\n",
      "698/698 [==============================] - 20s 29ms/step - loss: 0.1147 - tilt_loss: 0.0510 - pan_loss: 0.0637 - tilt_accuracy: 0.9753 - pan_accuracy: 0.9295 - val_loss: 0.4543 - val_tilt_loss: 0.1253 - val_pan_loss: 0.3290 - val_tilt_accuracy: 0.8280 - val_pan_accuracy: 0.2043\n",
      "Epoch 11/20\n",
      "698/698 [==============================] - 20s 29ms/step - loss: 0.1082 - tilt_loss: 0.0495 - pan_loss: 0.0587 - tilt_accuracy: 0.9758 - pan_accuracy: 0.9395 - val_loss: 0.4713 - val_tilt_loss: 0.1197 - val_pan_loss: 0.3516 - val_tilt_accuracy: 0.8151 - val_pan_accuracy: 0.2065\n",
      "Epoch 12/20\n",
      "698/698 [==============================] - 20s 28ms/step - loss: 0.1014 - tilt_loss: 0.0477 - pan_loss: 0.0537 - tilt_accuracy: 0.9786 - pan_accuracy: 0.9501 - val_loss: 0.4478 - val_tilt_loss: 0.1133 - val_pan_loss: 0.3345 - val_tilt_accuracy: 0.8387 - val_pan_accuracy: 0.2086\n",
      "Epoch 13/20\n",
      "698/698 [==============================] - 20s 28ms/step - loss: 0.0956 - tilt_loss: 0.0461 - pan_loss: 0.0495 - tilt_accuracy: 0.9818 - pan_accuracy: 0.9525 - val_loss: 0.4741 - val_tilt_loss: 0.1384 - val_pan_loss: 0.3357 - val_tilt_accuracy: 0.8344 - val_pan_accuracy: 0.2215\n",
      "Epoch 14/20\n",
      "698/698 [==============================] - 20s 29ms/step - loss: 0.0912 - tilt_loss: 0.0423 - pan_loss: 0.0489 - tilt_accuracy: 0.9840 - pan_accuracy: 0.9530 - val_loss: 0.5216 - val_tilt_loss: 0.1539 - val_pan_loss: 0.3677 - val_tilt_accuracy: 0.8215 - val_pan_accuracy: 0.2194\n",
      "Epoch 15/20\n",
      "698/698 [==============================] - 20s 29ms/step - loss: 0.1151 - tilt_loss: 0.0539 - pan_loss: 0.0612 - tilt_accuracy: 0.9703 - pan_accuracy: 0.9329 - val_loss: 0.5371 - val_tilt_loss: 0.1416 - val_pan_loss: 0.3954 - val_tilt_accuracy: 0.8430 - val_pan_accuracy: 0.2237\n",
      "Epoch 16/20\n",
      "698/698 [==============================] - 20s 29ms/step - loss: 0.0822 - tilt_loss: 0.0384 - pan_loss: 0.0437 - tilt_accuracy: 0.9870 - pan_accuracy: 0.9642 - val_loss: 0.5511 - val_tilt_loss: 0.1373 - val_pan_loss: 0.4138 - val_tilt_accuracy: 0.8473 - val_pan_accuracy: 0.2258\n",
      "Epoch 17/20\n",
      "698/698 [==============================] - 20s 29ms/step - loss: 0.0793 - tilt_loss: 0.0375 - pan_loss: 0.0418 - tilt_accuracy: 0.9866 - pan_accuracy: 0.9694 - val_loss: 0.5256 - val_tilt_loss: 0.1422 - val_pan_loss: 0.3833 - val_tilt_accuracy: 0.8323 - val_pan_accuracy: 0.2086\n",
      "Epoch 18/20\n",
      "698/698 [==============================] - 21s 29ms/step - loss: 0.0744 - tilt_loss: 0.0351 - pan_loss: 0.0393 - tilt_accuracy: 0.9886 - pan_accuracy: 0.9717 - val_loss: 0.5501 - val_tilt_loss: 0.1370 - val_pan_loss: 0.4130 - val_tilt_accuracy: 0.8387 - val_pan_accuracy: 0.2065\n",
      "Epoch 19/20\n",
      "698/698 [==============================] - 20s 29ms/step - loss: 0.0719 - tilt_loss: 0.0346 - pan_loss: 0.0373 - tilt_accuracy: 0.9872 - pan_accuracy: 0.9733 - val_loss: 0.5399 - val_tilt_loss: 0.1350 - val_pan_loss: 0.4049 - val_tilt_accuracy: 0.8409 - val_pan_accuracy: 0.2043\n",
      "Epoch 20/20\n",
      "698/698 [==============================] - 20s 29ms/step - loss: 0.0721 - tilt_loss: 0.0352 - pan_loss: 0.0369 - tilt_accuracy: 0.9877 - pan_accuracy: 0.9737 - val_loss: 0.7006 - val_tilt_loss: 0.1593 - val_pan_loss: 0.5413 - val_tilt_accuracy: 0.8108 - val_pan_accuracy: 0.1935\n"
     ]
    }
   ],
   "source": [
    "history = model.fit(x_train,y_train, batch_size = 16, epochs=20, verbose=1, validation_data=(x_val, y_val))"
   ]
  },
  {
   "cell_type": "code",
   "execution_count": 23,
   "metadata": {},
   "outputs": [
    {
     "name": "stdout",
     "output_type": "stream",
     "text": [
      "15/15 [==============================] - 0s 18ms/step - loss: 0.7006 - tilt_loss: 0.1593 - pan_loss: 0.5413 - tilt_accuracy: 0.8108 - pan_accuracy: 0.1935\n"
     ]
    }
   ],
   "source": [
    "score = model.evaluate(x_val, y_val, verbose=1)"
   ]
  },
  {
   "cell_type": "markdown",
   "metadata": {},
   "source": [
    "### Results (graph)"
   ]
  },
  {
   "cell_type": "code",
   "execution_count": 24,
   "metadata": {},
   "outputs": [
    {
     "data": {
      "image/png": "[encoded data removed]",
      "text/plain": [
       "<Figure size 432x288 with 1 Axes>"
      ]
     },
     "metadata": {
      "needs_background": "light"
     },
     "output_type": "display_data"
    },
    {
     "data": {
      "image/png": "[encoded data removed]",
      "text/plain": [
       "<Figure size 432x288 with 1 Axes>"
      ]
     },
     "metadata": {
      "needs_background": "light"
     },
     "output_type": "display_data"
    }
   ],
   "source": [
    "# summarize history for accuracy\n",
    "plt.plot(history.history['tilt_accuracy'])\n",
    "plt.plot(history.history['val_tilt_accuracy'])\n",
    "plt.title('model accuracy')\n",
    "plt.ylabel('accuracy')\n",
    "plt.xlabel('epoch')\n",
    "plt.legend(['train', 'test'], loc='upper left')\n",
    "plt.show()\n",
    "# summarize history for loss\n",
    "plt.plot(history.history['tilt_loss'])\n",
    "plt.plot(history.history['val_tilt_loss'])\n",
    "plt.title('model loss')\n",
    "plt.ylabel('loss')\n",
    "plt.xlabel('epoch')\n",
    "plt.legend(['train', 'test'], loc='upper left')\n",
    "plt.show()"
   ]
  },
  {
   "cell_type": "code",
   "execution_count": 25,
   "metadata": {},
   "outputs": [
    {
     "data": {
      "image/png": "[encoded data removed]",
      "text/plain": [
       "<Figure size 432x288 with 1 Axes>"
      ]
     },
     "metadata": {
      "needs_background": "light"
     },
     "output_type": "display_data"
    },
    {
     "data": {
      "image/png": "[encoded data removed]",
      "text/plain": [
       "<Figure size 432x288 with 1 Axes>"
      ]
     },
     "metadata": {
      "needs_background": "light"
     },
     "output_type": "display_data"
    }
   ],
   "source": [
    "# summarize history for accuracy\n",
    "plt.plot(history.history['pan_accuracy'])\n",
    "plt.plot(history.history['val_pan_accuracy'])\n",
    "plt.title('model accuracy')\n",
    "plt.ylabel('accuracy')\n",
    "plt.xlabel('epoch')\n",
    "plt.legend(['train', 'test'], loc='upper left')\n",
    "plt.show()\n",
    "# summarize history for loss\n",
    "plt.plot(history.history['pan_loss'])\n",
    "plt.plot(history.history['val_pan_loss'])\n",
    "plt.title('model loss')\n",
    "plt.ylabel('loss')\n",
    "plt.xlabel('epoch')\n",
    "plt.legend(['train', 'test'], loc='upper left')\n",
    "plt.show()"
   ]
  }
 ],
 "metadata": {
  "kernelspec": {
   "display_name": "Python 3",
   "language": "python",
   "name": "python3"
  },
  "language_info": {
   "codemirror_mode": {
    "name": "ipython",
    "version": 3
   },
   "file_extension": ".py",
   "mimetype": "text/x-python",
   "name": "python",
   "nbconvert_exporter": "python",
   "pygments_lexer": "ipython3",
   "version": "3.7.6"
  }
 },
 "nbformat": 4,
 "nbformat_minor": 4
}
