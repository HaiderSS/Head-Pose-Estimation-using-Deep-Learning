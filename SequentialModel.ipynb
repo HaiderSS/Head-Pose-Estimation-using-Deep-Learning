{
 "cells": [
  {
   "cell_type": "code",
   "execution_count": 1,
   "metadata": {},
   "outputs": [
    {
     "data": {
      "text/plain": [
       "'2.3.0'"
      ]
     },
     "execution_count": 1,
     "metadata": {},
     "output_type": "execute_result"
    }
   ],
   "source": [
    "# All imports\n",
    "\n",
    "# General\n",
    "import pandas as pd\n",
    "import numpy as np\n",
    "import sklearn\n",
    "from sklearn.ensemble import RandomForestClassifier\n",
    "from sklearn.svm import SVC\n",
    "from sklearn.cluster import KMeans\n",
    "from sklearn.utils import class_weight\n",
    "from sklearn.model_selection import train_test_split\n",
    "from sklearn.metrics import accuracy_score\n",
    "from sklearn.preprocessing import LabelBinarizer\n",
    "from keras.layers import Input\n",
    "from keras.utils import to_categorical\n",
    "from sklearn.preprocessing import LabelEncoder\n",
    "from keras.utils import to_categorical\n",
    "import tensorflow.keras\n",
    "\n",
    "# For CNN\n",
    "from tensorflow.keras.models import Sequential, Model\n",
    "from tensorflow.keras.layers import Activation, Dropout, Flatten, Dense\n",
    "from tensorflow.keras import regularizers, optimizers\n",
    "from tensorflow.keras.layers import BatchNormalization\n",
    "from tensorflow.keras.layers import Conv2D\n",
    "from tensorflow.keras.layers import MaxPooling2D\n",
    "from tensorflow.keras.metrics import categorical_accuracy\n",
    "from tensorflow.keras.preprocessing.image import ImageDataGenerator\n",
    "\n",
    "# For handling Images\n",
    "import IPython.display as display\n",
    "from PIL import Image\n",
    "import matplotlib.pyplot as plt\n",
    "import os\n",
    "import cv2\n",
    "import albumentations as A\n",
    "from albumentations import (VerticalFlip, HorizontalFlip, Flip, RandomRotate90, Rotate, ShiftScaleRotate, CenterCrop, OpticalDistortion, GridDistortion, ElasticTransform, JpegCompression, HueSaturationValue,\n",
    "                            RGBShift, RandomBrightness, RandomContrast, Blur, MotionBlur, MedianBlur, GaussNoise, CLAHE, ChannelShuffle, InvertImg, RandomGamma, ToGray, PadIfNeeded \n",
    "                           )\n",
    "import glob\n",
    "import seaborn as sns\n",
    "import keras\n",
    "\n",
    "# Tensorflow\n",
    "import tensorflow as tf\n",
    "# AUTOTUNE = tf.data.experimental.AUTOTUNE\n",
    "tf.__version__"
   ]
  },
  {
   "cell_type": "markdown",
   "metadata": {},
   "source": [
    "### Functions"
   ]
  },
  {
   "cell_type": "code",
   "execution_count": 2,
   "metadata": {},
   "outputs": [],
   "source": [
    "def load_file(filename):\n",
    "    return pd.read_csv(\"Data/\" + filename)"
   ]
  },
  {
   "cell_type": "code",
   "execution_count": 3,
   "metadata": {},
   "outputs": [],
   "source": [
    "# augmenting training images\n",
    "\n",
    "def augment_images(aug, image, mask=None, bboxes=[], categories=[], category_id_to_name=[], filename=None, \n",
    "                     font_scale_orig=0.35, font_scale_aug=0.35, show_title=True, **kwargs):\n",
    "\n",
    "    augmented = aug(image=image)\n",
    "\n",
    "    return augmented['image']"
   ]
  },
  {
   "cell_type": "code",
   "execution_count": 4,
   "metadata": {},
   "outputs": [],
   "source": [
    "# generating images, normalising and resizing images as well\n",
    "\n",
    "def generate_data(data):\n",
    "    \n",
    "    x = []\n",
    "    for i in range(len(data)):\n",
    "        im = Image.open(data.iloc[i,0])\n",
    "        im = im.resize((144,144))               \n",
    "        im = np.array(im)\n",
    "        im = im.astype('float32')\n",
    "        im = im/255.0                \n",
    "        x.append(im)\n",
    "    x_train = np.array(x)\n",
    "    \n",
    "    return x_train"
   ]
  },
  {
   "cell_type": "code",
   "execution_count": 5,
   "metadata": {},
   "outputs": [],
   "source": [
    "# Label Binarizer for Y label\n",
    "\n",
    "def label_binarizer(y_train, y_test):\n",
    "    le = LabelBinarizer()\n",
    "    le.fit(y_train)\n",
    "    y_train_enc = le.fit_transform(y_train)\n",
    "    y_test_enc = le.fit_transform(y_test)\n",
    "    return pd.DataFrame(y_train_enc), pd.DataFrame(y_test_enc)"
   ]
  },
  {
   "cell_type": "code",
   "execution_count": 6,
   "metadata": {},
   "outputs": [],
   "source": [
    "# unzipping files\n",
    "\n",
    "# import zipfile\n",
    "# with zipfile.ZipFile('./m_data.zip', 'r') as zip_ref:\n",
    "#     zip_ref.extractall('./')"
   ]
  },
  {
   "cell_type": "code",
   "execution_count": 7,
   "metadata": {},
   "outputs": [],
   "source": [
    "# loading training data\n",
    "\n",
    "df = load_file(\"train_data.csv\")"
   ]
  },
  {
   "cell_type": "markdown",
   "metadata": {},
   "source": [
    "### Data Exploration"
   ]
  },
  {
   "cell_type": "code",
   "execution_count": 8,
   "metadata": {},
   "outputs": [
    {
     "name": "stdout",
     "output_type": "stream",
     "text": [
      "Tilt classes:  [-15   0  15  30 -60 -30  90  60 -90]\n",
      "Pan classes:  [ 30 -75 -60 -90  60 -15 -45 -30  90  15  45   0  75]\n"
     ]
    }
   ],
   "source": [
    "print(\"Tilt classes: \",df.tilt.unique())\n",
    "print(\"Pan classes: \",df.pan.unique())"
   ]
  },
  {
   "cell_type": "code",
   "execution_count": 9,
   "metadata": {},
   "outputs": [
    {
     "data": {
      "text/plain": [
       "tilt\n",
       "-90     25\n",
       "-60    325\n",
       "-30    325\n",
       "-15    325\n",
       " 0     325\n",
       " 15    325\n",
       " 30    325\n",
       " 60    325\n",
       " 90     25\n",
       "Name: filename, dtype: int64"
      ]
     },
     "execution_count": 9,
     "metadata": {},
     "output_type": "execute_result"
    }
   ],
   "source": [
    "df.groupby(['tilt'])['filename'].count()"
   ]
  },
  {
   "cell_type": "code",
   "execution_count": 10,
   "metadata": {},
   "outputs": [
    {
     "data": {
      "text/plain": [
       "pan\n",
       "-90    175\n",
       "-75    175\n",
       "-60    175\n",
       "-45    175\n",
       "-30    175\n",
       "-15    175\n",
       " 0     225\n",
       " 15    175\n",
       " 30    175\n",
       " 45    175\n",
       " 60    175\n",
       " 75    175\n",
       " 90    175\n",
       "Name: filename, dtype: int64"
      ]
     },
     "execution_count": 10,
     "metadata": {},
     "output_type": "execute_result"
    }
   ],
   "source": [
    "df.groupby(['pan'])['filename'].count()"
   ]
  },
  {
   "cell_type": "markdown",
   "metadata": {},
   "source": [
    "### Cleaning and Handling Data"
   ]
  },
  {
   "cell_type": "code",
   "execution_count": 11,
   "metadata": {},
   "outputs": [],
   "source": [
    "# renaming column\n",
    "\n",
    "df = df.rename(columns={'filename': 'filepath'})\n",
    "# df1 = df1.rename(columns={'filename': 'filepath'})"
   ]
  },
  {
   "cell_type": "code",
   "execution_count": 12,
   "metadata": {},
   "outputs": [],
   "source": [
    "# adding path \n",
    "\n",
    "df.filepath = 'face_data/'+ df.filepath\n",
    "# df1.filepath = 'Data/face_data/'+ df1.filepath"
   ]
  },
  {
   "cell_type": "code",
   "execution_count": 13,
   "metadata": {},
   "outputs": [
    {
     "data": {
      "image/png": "[encoded data removed]",
      "text/plain": [
       "<Figure size 1152x288 with 4 Axes>"
      ]
     },
     "metadata": {
      "needs_background": "light"
     },
     "output_type": "display_data"
    }
   ],
   "source": [
    "# displaying random images\n",
    "\n",
    "r_inx = np.random.choice(100, 4)\n",
    "rand_data = df.loc[r_inx,'filepath']\n",
    "\n",
    "plt.figure(figsize=(16,4))\n",
    "for i, image_path in enumerate(rand_data):\n",
    "    im = np.asarray(Image.open(image_path))\n",
    "    plt.subplot(1,4,i+1)\n",
    "    plt.imshow(im,cmap='gray')\n",
    "    plt.axis('off')\n",
    "    \n",
    "plt.show()"
   ]
  },
  {
   "cell_type": "code",
   "execution_count": 14,
   "metadata": {},
   "outputs": [],
   "source": [
    "# removing unnessary columns\n",
    "\n",
    "df.drop(['person_id', 'series'], axis=1, inplace=True)\n",
    "# df1.drop(['person_id', 'series'], axis=1, inplace=True)"
   ]
  },
  {
   "cell_type": "code",
   "execution_count": 15,
   "metadata": {},
   "outputs": [],
   "source": [
    "trainData, valData = train_test_split(df,test_size=0.20,  random_state=42)"
   ]
  },
  {
   "cell_type": "code",
   "execution_count": 16,
   "metadata": {},
   "outputs": [],
   "source": [
    "# augmenting only training images \n",
    "\n",
    "for index, row in trainData.iterrows():\n",
    "    im = cv2.imread(row['filepath'])\n",
    "    for i in range(5):\n",
    "        light = A.Compose([\n",
    "            A.RandomBrightnessContrast(p=0.5),\n",
    "            A.RGBShift(p=0.5),\n",
    "            A.RandomGamma(p=0.5),\n",
    "            A.HueSaturationValue(hue_shift_limit=20, sat_shift_limit=50, val_shift_limit=50, p=0.5),\n",
    "            A.CLAHE(p=0.5),    \n",
    "        ], p=1)\n",
    "        \n",
    "        augmented = augment_images(light, im)\n",
    "        f = 'face_data/' + str(i) + row['filepath'].split('/')[-1]\n",
    "        cv2.imwrite('face_data/' + str(i) + row['filepath'].split('/')[-1], augmented)\n",
    "        trainData = trainData.append({'filepath' : f, 'tilt' : row['tilt'], 'pan' : row['pan'] }, ignore_index=True)"
   ]
  },
  {
   "cell_type": "code",
   "execution_count": 17,
   "metadata": {},
   "outputs": [
    {
     "name": "stdout",
     "output_type": "stream",
     "text": [
      "(11160, 3)\n",
      "(465, 3)\n"
     ]
    }
   ],
   "source": [
    "print(trainData.shape)\n",
    "print(valData.shape)"
   ]
  },
  {
   "cell_type": "code",
   "execution_count": 18,
   "metadata": {},
   "outputs": [],
   "source": [
    "# generating xdata \n",
    "\n",
    "x_train =  generate_data(trainData)\n",
    "x_val =  generate_data(valData)"
   ]
  },
  {
   "cell_type": "code",
   "execution_count": 19,
   "metadata": {},
   "outputs": [],
   "source": [
    "# generating ydata\n",
    "\n",
    "y_train = trainData.iloc[:,1:]\n",
    "y_val = valData.iloc[:,1:]"
   ]
  },
  {
   "cell_type": "code",
   "execution_count": 20,
   "metadata": {},
   "outputs": [
    {
     "name": "stdout",
     "output_type": "stream",
     "text": [
      "(11160, 144, 144, 3)\n",
      "(465, 144, 144, 3)\n",
      "(11160, 2)\n",
      "(465, 2)\n"
     ]
    }
   ],
   "source": [
    "print(x_train.shape)\n",
    "print(x_val.shape)\n",
    "print(y_train.shape)\n",
    "print(y_val.shape)"
   ]
  },
  {
   "cell_type": "markdown",
   "metadata": {},
   "source": [
    "### Label binariser"
   ]
  },
  {
   "cell_type": "code",
   "execution_count": 21,
   "metadata": {},
   "outputs": [],
   "source": [
    "y_trainLabel1, y_testLabel1 = label_binarizer(y_train.iloc[:,0], y_val.iloc[:,0])\n",
    "y_trainLabel2, y_testLabel2 = label_binarizer(y_train.iloc[:,1], y_val.iloc[:,1])"
   ]
  },
  {
   "cell_type": "code",
   "execution_count": 22,
   "metadata": {},
   "outputs": [],
   "source": [
    "# concetinating dataframes and merfing columns\n",
    "\n",
    "y_train = pd.concat([y_trainLabel1, y_trainLabel2], axis=1)\n",
    "y_val = pd.concat([y_testLabel1, y_testLabel2], axis=1)"
   ]
  },
  {
   "cell_type": "markdown",
   "metadata": {},
   "source": [
    "### Model creation"
   ]
  },
  {
   "cell_type": "code",
   "execution_count": 23,
   "metadata": {},
   "outputs": [],
   "source": [
    "# model 3 sequential\n",
    "\n",
    "model = Sequential()\n",
    "model.add(Conv2D(16,(3,3), activation='relu', kernel_regularizer=regularizers.l2(0.01), input_shape= x_train[0].shape))\n",
    "model.add(BatchNormalization())\n",
    "model.add(MaxPooling2D(2,2))\n",
    "model.add(Dropout(0.2))\n",
    "\n",
    "model.add(Conv2D(32,(3,3), activation='relu', kernel_regularizer=regularizers.l2(0.01)))\n",
    "model.add(BatchNormalization())\n",
    "model.add(MaxPooling2D(2,2))\n",
    "model.add(Dropout(0.3))\n",
    "\n",
    "model.add(Conv2D(64,(3,3), activation='relu', kernel_regularizer=regularizers.l2(0.01)))\n",
    "model.add(BatchNormalization())\n",
    "model.add(MaxPooling2D(2,2))\n",
    "model.add(Dropout(0.4))\n",
    "\n",
    "model.add(Conv2D(128,(3,3), activation='relu', kernel_regularizer=regularizers.l2(0.01)))\n",
    "model.add(BatchNormalization())\n",
    "model.add(MaxPooling2D(2,2))\n",
    "model.add(Dropout(0.5))\n",
    "\n",
    "model.add(Flatten())\n",
    "model.add(Dense(128, activation='relu'))\n",
    "model.add(BatchNormalization())\n",
    "model.add(Dropout(0.5))\n",
    "model.add(Dense(128, activation='relu'))\n",
    "model.add(BatchNormalization())\n",
    "model.add(Dropout(0.5))\n",
    "\n",
    "model.add(Dense(22,activation='sigmoid'))\n",
    "\n",
    "model.compile(optimizer='adam', loss='binary_crossentropy', metrics=['accuracy'])\n",
    "\n",
    "# sgd = optimizers.SGD(lr=0.01, decay=1e-6, momentum=0.9, nesterov=True)\n",
    "# model.compile(loss='binary_crossentropy',\n",
    "#               optimizer=sgd,\n",
    "#               metrics=['accuracy'])"
   ]
  },
  {
   "cell_type": "code",
   "execution_count": 25,
   "metadata": {},
   "outputs": [
    {
     "name": "stdout",
     "output_type": "stream",
     "text": [
      "Epoch 1/30\n",
      "349/349 [==============================] - 7s 21ms/step - loss: 1.2609 - accuracy: 0.1305 - val_loss: 0.9150 - val_accuracy: 0.0000e+00\n",
      "Epoch 2/30\n",
      "349/349 [==============================] - 7s 20ms/step - loss: 0.3798 - accuracy: 0.2892 - val_loss: 0.3874 - val_accuracy: 0.2882\n",
      "Epoch 3/30\n",
      "349/349 [==============================] - 7s 20ms/step - loss: 0.2784 - accuracy: 0.3388 - val_loss: 0.2591 - val_accuracy: 0.3376\n",
      "Epoch 4/30\n",
      "349/349 [==============================] - 7s 20ms/step - loss: 0.2493 - accuracy: 0.3768 - val_loss: 0.2633 - val_accuracy: 0.3054\n",
      "Epoch 5/30\n",
      "349/349 [==============================] - 7s 20ms/step - loss: 0.2337 - accuracy: 0.4072 - val_loss: 0.2241 - val_accuracy: 0.4237\n",
      "Epoch 6/30\n",
      "349/349 [==============================] - 7s 20ms/step - loss: 0.2274 - accuracy: 0.4238 - val_loss: 0.2509 - val_accuracy: 0.4301\n",
      "Epoch 7/30\n",
      "349/349 [==============================] - 7s 20ms/step - loss: 0.2253 - accuracy: 0.4525 - val_loss: 0.2131 - val_accuracy: 0.4645\n",
      "Epoch 8/30\n",
      "349/349 [==============================] - 7s 20ms/step - loss: 0.2176 - accuracy: 0.4807 - val_loss: 0.1969 - val_accuracy: 0.5957\n",
      "Epoch 9/30\n",
      "349/349 [==============================] - 7s 20ms/step - loss: 0.2188 - accuracy: 0.4874 - val_loss: 0.2568 - val_accuracy: 0.5011\n",
      "Epoch 10/30\n",
      "349/349 [==============================] - 7s 20ms/step - loss: 0.2181 - accuracy: 0.5016 - val_loss: 0.1971 - val_accuracy: 0.5548\n",
      "Epoch 11/30\n",
      "349/349 [==============================] - 7s 20ms/step - loss: 0.2268 - accuracy: 0.5052 - val_loss: 0.3132 - val_accuracy: 0.4624\n",
      "Epoch 12/30\n",
      "349/349 [==============================] - 7s 20ms/step - loss: 0.2118 - accuracy: 0.5262 - val_loss: 0.2201 - val_accuracy: 0.6860\n",
      "Epoch 13/30\n",
      "349/349 [==============================] - 7s 20ms/step - loss: 0.2280 - accuracy: 0.5297 - val_loss: 0.2707 - val_accuracy: 0.6086\n",
      "Epoch 14/30\n",
      "349/349 [==============================] - 7s 20ms/step - loss: 0.2198 - accuracy: 0.5426 - val_loss: 0.2321 - val_accuracy: 0.5978\n",
      "Epoch 15/30\n",
      "349/349 [==============================] - 7s 20ms/step - loss: 0.2049 - accuracy: 0.5555 - val_loss: 0.1910 - val_accuracy: 0.6344\n",
      "Epoch 16/30\n",
      "349/349 [==============================] - 7s 20ms/step - loss: 0.2000 - accuracy: 0.5747 - val_loss: 0.1820 - val_accuracy: 0.7075\n",
      "Epoch 17/30\n",
      "349/349 [==============================] - 7s 21ms/step - loss: 0.2050 - accuracy: 0.5756 - val_loss: 0.1817 - val_accuracy: 0.7032\n",
      "Epoch 18/30\n",
      "349/349 [==============================] - 7s 21ms/step - loss: 0.1979 - accuracy: 0.5966 - val_loss: 0.1800 - val_accuracy: 0.6323\n",
      "Epoch 19/30\n",
      "349/349 [==============================] - 7s 21ms/step - loss: 0.1996 - accuracy: 0.5975 - val_loss: 0.1767 - val_accuracy: 0.7333\n",
      "Epoch 20/30\n",
      "349/349 [==============================] - 7s 20ms/step - loss: 0.2065 - accuracy: 0.5953 - val_loss: 0.1874 - val_accuracy: 0.6774\n",
      "Epoch 21/30\n",
      "349/349 [==============================] - 7s 20ms/step - loss: 0.2065 - accuracy: 0.6030 - val_loss: 0.1879 - val_accuracy: 0.6753\n",
      "Epoch 22/30\n",
      "349/349 [==============================] - 7s 20ms/step - loss: 0.2005 - accuracy: 0.6060 - val_loss: 0.2027 - val_accuracy: 0.6065\n",
      "Epoch 23/30\n",
      "349/349 [==============================] - 7s 20ms/step - loss: 0.2006 - accuracy: 0.6138 - val_loss: 0.1885 - val_accuracy: 0.6968\n",
      "Epoch 24/30\n",
      "349/349 [==============================] - 7s 21ms/step - loss: 0.1974 - accuracy: 0.6159 - val_loss: 0.2071 - val_accuracy: 0.5570\n",
      "Epoch 25/30\n",
      "349/349 [==============================] - 7s 21ms/step - loss: 0.1914 - accuracy: 0.6246 - val_loss: 0.1640 - val_accuracy: 0.7763\n",
      "Epoch 26/30\n",
      "349/349 [==============================] - 7s 21ms/step - loss: 0.1941 - accuracy: 0.6311 - val_loss: 0.1948 - val_accuracy: 0.6624\n",
      "Epoch 27/30\n",
      "349/349 [==============================] - 7s 21ms/step - loss: 0.2008 - accuracy: 0.6271 - val_loss: 0.1760 - val_accuracy: 0.7290\n",
      "Epoch 28/30\n",
      "349/349 [==============================] - 7s 21ms/step - loss: 0.1961 - accuracy: 0.6325 - val_loss: 0.1640 - val_accuracy: 0.7742\n",
      "Epoch 29/30\n",
      "349/349 [==============================] - 7s 20ms/step - loss: 0.1888 - accuracy: 0.6422 - val_loss: 0.1664 - val_accuracy: 0.7570\n",
      "Epoch 30/30\n",
      "349/349 [==============================] - 7s 20ms/step - loss: 0.1953 - accuracy: 0.6477 - val_loss: 0.1890 - val_accuracy: 0.7656\n"
     ]
    }
   ],
   "source": [
    "# training the model\n",
    "history = model.fit(x_train,y_train, epochs=30, verbose=1, validation_data=(x_val, y_val))\n"
   ]
  },
  {
   "cell_type": "code",
   "execution_count": 26,
   "metadata": {},
   "outputs": [
    {
     "name": "stdout",
     "output_type": "stream",
     "text": [
      "15/15 [==============================] - 0s 7ms/step - loss: 0.1890 - accuracy: 0.7656\n"
     ]
    }
   ],
   "source": [
    "score = model.evaluate(x_val, y_val, verbose=1)"
   ]
  },
  {
   "cell_type": "code",
   "execution_count": 28,
   "metadata": {},
   "outputs": [
    {
     "data": {
      "image/png": "[encoded data removed]",
      "text/plain": [
       "<Figure size 432x288 with 1 Axes>"
      ]
     },
     "metadata": {
      "needs_background": "light"
     },
     "output_type": "display_data"
    },
    {
     "data": {
      "image/png": "[encoded data removed]",
      "text/plain": [
       "<Figure size 432x288 with 1 Axes>"
      ]
     },
     "metadata": {
      "needs_background": "light"
     },
     "output_type": "display_data"
    }
   ],
   "source": [
    "# summarize history for accuracy\n",
    "plt.plot(history.history['accuracy'])\n",
    "plt.plot(history.history['val_accuracy'])\n",
    "plt.title('model accuracy')\n",
    "plt.ylabel('accuracy')\n",
    "plt.xlabel('epoch')\n",
    "plt.legend(['train', 'test'], loc='upper left')\n",
    "plt.show()\n",
    "# summarize history for loss\n",
    "plt.plot(history.history['loss'])\n",
    "plt.plot(history.history['val_loss'])\n",
    "plt.title('model loss')\n",
    "plt.ylabel('loss')\n",
    "plt.xlabel('epoch')\n",
    "plt.legend(['train', 'test'], loc='upper left')\n",
    "plt.show()"
   ]
  },
  {
   "cell_type": "code",
   "execution_count": 29,
   "metadata": {},
   "outputs": [],
   "source": []
  },
  {
   "cell_type": "markdown",
   "metadata": {},
   "source": [
    "# Time to train our best selected model on complete data"
   ]
  },
  {
   "cell_type": "code",
   "execution_count": 30,
   "metadata": {},
   "outputs": [],
   "source": [
    "test_df = load_file(\"test_data.csv\")"
   ]
  },
  {
   "cell_type": "code",
   "execution_count": 31,
   "metadata": {},
   "outputs": [
    {
     "data": {
      "text/html": [
       "<div>\n",
       "<style scoped>\n",
       "    .dataframe tbody tr th:only-of-type {\n",
       "        vertical-align: middle;\n",
       "    }\n",
       "\n",
       "    .dataframe tbody tr th {\n",
       "        vertical-align: top;\n",
       "    }\n",
       "\n",
       "    .dataframe thead th {\n",
       "        text-align: right;\n",
       "    }\n",
       "</style>\n",
       "<table border=\"1\" class=\"dataframe\">\n",
       "  <thead>\n",
       "    <tr style=\"text-align: right;\">\n",
       "      <th></th>\n",
       "      <th>filename</th>\n",
       "      <th>person_id</th>\n",
       "      <th>series</th>\n",
       "    </tr>\n",
       "  </thead>\n",
       "  <tbody>\n",
       "    <tr>\n",
       "      <th>0</th>\n",
       "      <td>face_33.jpg</td>\n",
       "      <td>2</td>\n",
       "      <td>1</td>\n",
       "    </tr>\n",
       "    <tr>\n",
       "      <th>1</th>\n",
       "      <td>face_2148.jpg</td>\n",
       "      <td>2</td>\n",
       "      <td>2</td>\n",
       "    </tr>\n",
       "    <tr>\n",
       "      <th>2</th>\n",
       "      <td>face_2119.jpg</td>\n",
       "      <td>2</td>\n",
       "      <td>1</td>\n",
       "    </tr>\n",
       "    <tr>\n",
       "      <th>3</th>\n",
       "      <td>face_1262.jpg</td>\n",
       "      <td>2</td>\n",
       "      <td>1</td>\n",
       "    </tr>\n",
       "    <tr>\n",
       "      <th>4</th>\n",
       "      <td>face_516.jpg</td>\n",
       "      <td>2</td>\n",
       "      <td>2</td>\n",
       "    </tr>\n",
       "    <tr>\n",
       "      <th>...</th>\n",
       "      <td>...</td>\n",
       "      <td>...</td>\n",
       "      <td>...</td>\n",
       "    </tr>\n",
       "    <tr>\n",
       "      <th>460</th>\n",
       "      <td>face_2389.jpg</td>\n",
       "      <td>1</td>\n",
       "      <td>1</td>\n",
       "    </tr>\n",
       "    <tr>\n",
       "      <th>461</th>\n",
       "      <td>face_1799.jpg</td>\n",
       "      <td>1</td>\n",
       "      <td>1</td>\n",
       "    </tr>\n",
       "    <tr>\n",
       "      <th>462</th>\n",
       "      <td>face_637.jpg</td>\n",
       "      <td>1</td>\n",
       "      <td>2</td>\n",
       "    </tr>\n",
       "    <tr>\n",
       "      <th>463</th>\n",
       "      <td>face_788.jpg</td>\n",
       "      <td>1</td>\n",
       "      <td>2</td>\n",
       "    </tr>\n",
       "    <tr>\n",
       "      <th>464</th>\n",
       "      <td>face_2567.jpg</td>\n",
       "      <td>1</td>\n",
       "      <td>1</td>\n",
       "    </tr>\n",
       "  </tbody>\n",
       "</table>\n",
       "<p>465 rows × 3 columns</p>\n",
       "</div>"
      ],
      "text/plain": [
       "          filename  person_id  series\n",
       "0      face_33.jpg          2       1\n",
       "1    face_2148.jpg          2       2\n",
       "2    face_2119.jpg          2       1\n",
       "3    face_1262.jpg          2       1\n",
       "4     face_516.jpg          2       2\n",
       "..             ...        ...     ...\n",
       "460  face_2389.jpg          1       1\n",
       "461  face_1799.jpg          1       1\n",
       "462   face_637.jpg          1       2\n",
       "463   face_788.jpg          1       2\n",
       "464  face_2567.jpg          1       1\n",
       "\n",
       "[465 rows x 3 columns]"
      ]
     },
     "execution_count": 31,
     "metadata": {},
     "output_type": "execute_result"
    }
   ],
   "source": [
    "test_df"
   ]
  },
  {
   "cell_type": "code",
   "execution_count": 32,
   "metadata": {},
   "outputs": [],
   "source": [
    "# cleaning test data\n",
    "\n",
    "test_df = test_df.rename(columns={'filename': 'filepath'})\n",
    "test_df.filepath = 'face_data/'+ test_df.filepath\n",
    "test_df.drop(['person_id', 'series'], axis=1, inplace=True)"
   ]
  },
  {
   "cell_type": "code",
   "execution_count": 33,
   "metadata": {},
   "outputs": [],
   "source": [
    "for index, row in df.iterrows():\n",
    "    im = cv2.imread(row['filepath'])\n",
    "    for i in range(5):\n",
    "        light = A.Compose([\n",
    "            A.RandomBrightnessContrast(p=0.5),\n",
    "            A.RGBShift(p=0.5),\n",
    "            A.RandomGamma(p=0.5),\n",
    "            A.HueSaturationValue(hue_shift_limit=20, sat_shift_limit=50, val_shift_limit=50, p=0.5),\n",
    "            A.CLAHE(p=0.5),    \n",
    "        ], p=1)\n",
    "        \n",
    "        augmented = augment_images(light, im)\n",
    "        f = 'face_data/' + str(i) + row['filepath'].split('/')[-1]\n",
    "        cv2.imwrite('face_data/' + str(i) + row['filepath'].split('/')[-1], augmented)\n",
    "        df = df.append({'filepath' : f, 'tilt' : row['tilt'], 'pan' : row['pan'] }, ignore_index=True)"
   ]
  },
  {
   "cell_type": "code",
   "execution_count": 34,
   "metadata": {},
   "outputs": [],
   "source": [
    "trainsData = df"
   ]
  },
  {
   "cell_type": "code",
   "execution_count": 35,
   "metadata": {},
   "outputs": [],
   "source": [
    "y_trains = trainsData.iloc[:,1:]"
   ]
  },
  {
   "cell_type": "code",
   "execution_count": 39,
   "metadata": {},
   "outputs": [],
   "source": [
    "# label binariszer\n",
    "\n",
    "le1 = LabelBinarizer()\n",
    "\n",
    "#tilt\n",
    "le1.fit(y_trains.iloc[:,0])\n",
    "y_tilt = le1.fit_transform(y_trains.iloc[:,0])\n",
    "\n",
    "y_tilt = pd.DataFrame(y_tilt)\n",
    "\n",
    "le2 = LabelBinarizer()\n",
    "\n",
    "#pan\n",
    "le2.fit(y_trains.iloc[:,1])\n",
    "y_pan = le2.fit_transform(y_trains.iloc[:,1])\n",
    "\n",
    "\n",
    "y_pan = pd.DataFrame(y_pan)\n",
    "\n",
    "y_train = pd.concat([y_tilt, y_pan], axis=1)"
   ]
  },
  {
   "cell_type": "code",
   "execution_count": 40,
   "metadata": {},
   "outputs": [],
   "source": [
    "x_train = generate_data(trainsData)\n",
    "x_test =  generate_data(test_df)"
   ]
  },
  {
   "cell_type": "code",
   "execution_count": 41,
   "metadata": {},
   "outputs": [
    {
     "name": "stdout",
     "output_type": "stream",
     "text": [
      "(13950, 144, 144, 3)\n",
      "(465, 144, 144, 3)\n",
      "(13950, 22)\n"
     ]
    }
   ],
   "source": [
    "print(x_train.shape)\n",
    "print(x_test.shape)\n",
    "print(y_train.shape)"
   ]
  },
  {
   "cell_type": "code",
   "execution_count": 42,
   "metadata": {},
   "outputs": [],
   "source": [
    "# model 3 sequential\n",
    "\n",
    "model = Sequential()\n",
    "model.add(Conv2D(16,(3,3), activation='relu', kernel_regularizer=regularizers.l2(0.01), input_shape= x_train[0].shape))\n",
    "model.add(BatchNormalization())\n",
    "model.add(MaxPooling2D(2,2))\n",
    "model.add(Dropout(0.2))\n",
    "\n",
    "model.add(Conv2D(32,(3,3), activation='relu', kernel_regularizer=regularizers.l2(0.01)))\n",
    "model.add(BatchNormalization())\n",
    "model.add(MaxPooling2D(2,2))\n",
    "model.add(Dropout(0.3))\n",
    "\n",
    "model.add(Conv2D(64,(3,3), activation='relu', kernel_regularizer=regularizers.l2(0.01)))\n",
    "model.add(BatchNormalization())\n",
    "model.add(MaxPooling2D(2,2))\n",
    "model.add(Dropout(0.4))\n",
    "\n",
    "model.add(Conv2D(128,(3,3), activation='relu', kernel_regularizer=regularizers.l2(0.01)))\n",
    "model.add(BatchNormalization())\n",
    "model.add(MaxPooling2D(2,2))\n",
    "model.add(Dropout(0.5))\n",
    "\n",
    "model.add(Flatten())\n",
    "model.add(Dense(128, activation='relu'))\n",
    "model.add(BatchNormalization())\n",
    "model.add(Dropout(0.5))\n",
    "model.add(Dense(128, activation='relu'))\n",
    "model.add(BatchNormalization())\n",
    "model.add(Dropout(0.5))\n",
    "\n",
    "model.add(Dense(22,activation='sigmoid'))\n",
    "\n",
    "model.compile(optimizer='adam', loss='binary_crossentropy', metrics=['accuracy'])"
   ]
  },
  {
   "cell_type": "code",
   "execution_count": 44,
   "metadata": {},
   "outputs": [],
   "source": [
    "from keras.callbacks import ModelCheckpoint, EarlyStopping"
   ]
  },
  {
   "cell_type": "code",
   "execution_count": 45,
   "metadata": {},
   "outputs": [
    {
     "name": "stdout",
     "output_type": "stream",
     "text": [
      "Epoch 1/30\n",
      "436/436 [==============================] - ETA: 0s - loss: 1.1056 - accuracy: 0.1528WARNING:tensorflow:Early stopping conditioned on metric `val_loss` which is not available. Available metrics are: loss,accuracy\n",
      "WARNING:tensorflow:Can save best model only with val_loss available, skipping.\n",
      "436/436 [==============================] - 9s 20ms/step - loss: 1.1056 - accuracy: 0.1528\n",
      "Epoch 2/30\n",
      "436/436 [==============================] - ETA: 0s - loss: 0.3398 - accuracy: 0.3143WARNING:tensorflow:Early stopping conditioned on metric `val_loss` which is not available. Available metrics are: loss,accuracy\n",
      "WARNING:tensorflow:Can save best model only with val_loss available, skipping.\n",
      "436/436 [==============================] - 8s 19ms/step - loss: 0.3398 - accuracy: 0.3143\n",
      "Epoch 3/30\n",
      "436/436 [==============================] - ETA: 0s - loss: 0.2640 - accuracy: 0.3642WARNING:tensorflow:Early stopping conditioned on metric `val_loss` which is not available. Available metrics are: loss,accuracy\n",
      "WARNING:tensorflow:Can save best model only with val_loss available, skipping.\n",
      "436/436 [==============================] - 9s 20ms/step - loss: 0.2640 - accuracy: 0.3642\n",
      "Epoch 4/30\n",
      "436/436 [==============================] - ETA: 0s - loss: 0.2461 - accuracy: 0.3859WARNING:tensorflow:Early stopping conditioned on metric `val_loss` which is not available. Available metrics are: loss,accuracy\n",
      "WARNING:tensorflow:Can save best model only with val_loss available, skipping.\n",
      "436/436 [==============================] - 9s 20ms/step - loss: 0.2461 - accuracy: 0.3859\n",
      "Epoch 5/30\n",
      "436/436 [==============================] - ETA: 0s - loss: 0.2316 - accuracy: 0.4120WARNING:tensorflow:Early stopping conditioned on metric `val_loss` which is not available. Available metrics are: loss,accuracy\n",
      "WARNING:tensorflow:Can save best model only with val_loss available, skipping.\n",
      "436/436 [==============================] - 9s 20ms/step - loss: 0.2316 - accuracy: 0.4120\n",
      "Epoch 6/30\n",
      "436/436 [==============================] - ETA: 0s - loss: 0.2273 - accuracy: 0.4333WARNING:tensorflow:Early stopping conditioned on metric `val_loss` which is not available. Available metrics are: loss,accuracy\n",
      "WARNING:tensorflow:Can save best model only with val_loss available, skipping.\n",
      "436/436 [==============================] - 9s 20ms/step - loss: 0.2273 - accuracy: 0.4333\n",
      "Epoch 7/30\n",
      "436/436 [==============================] - ETA: 0s - loss: 0.2238 - accuracy: 0.4565WARNING:tensorflow:Early stopping conditioned on metric `val_loss` which is not available. Available metrics are: loss,accuracy\n",
      "WARNING:tensorflow:Can save best model only with val_loss available, skipping.\n",
      "436/436 [==============================] - 9s 20ms/step - loss: 0.2238 - accuracy: 0.4565\n",
      "Epoch 8/30\n",
      "436/436 [==============================] - ETA: 0s - loss: 0.2188 - accuracy: 0.4746WARNING:tensorflow:Early stopping conditioned on metric `val_loss` which is not available. Available metrics are: loss,accuracy\n",
      "WARNING:tensorflow:Can save best model only with val_loss available, skipping.\n",
      "436/436 [==============================] - 8s 19ms/step - loss: 0.2188 - accuracy: 0.4746\n",
      "Epoch 9/30\n",
      "436/436 [==============================] - ETA: 0s - loss: 0.2141 - accuracy: 0.4936WARNING:tensorflow:Early stopping conditioned on metric `val_loss` which is not available. Available metrics are: loss,accuracy\n",
      "WARNING:tensorflow:Can save best model only with val_loss available, skipping.\n",
      "436/436 [==============================] - 9s 20ms/step - loss: 0.2141 - accuracy: 0.4936\n",
      "Epoch 10/30\n",
      "436/436 [==============================] - ETA: 0s - loss: 0.2136 - accuracy: 0.5031WARNING:tensorflow:Early stopping conditioned on metric `val_loss` which is not available. Available metrics are: loss,accuracy\n",
      "WARNING:tensorflow:Can save best model only with val_loss available, skipping.\n",
      "436/436 [==============================] - 9s 20ms/step - loss: 0.2136 - accuracy: 0.5031\n",
      "Epoch 11/30\n",
      "436/436 [==============================] - ETA: 0s - loss: 0.2200 - accuracy: 0.5078WARNING:tensorflow:Early stopping conditioned on metric `val_loss` which is not available. Available metrics are: loss,accuracy\n",
      "WARNING:tensorflow:Can save best model only with val_loss available, skipping.\n",
      "436/436 [==============================] - 9s 20ms/step - loss: 0.2200 - accuracy: 0.5078\n",
      "Epoch 12/30\n",
      "436/436 [==============================] - ETA: 0s - loss: 0.2079 - accuracy: 0.5238WARNING:tensorflow:Early stopping conditioned on metric `val_loss` which is not available. Available metrics are: loss,accuracy\n",
      "WARNING:tensorflow:Can save best model only with val_loss available, skipping.\n",
      "436/436 [==============================] - 8s 19ms/step - loss: 0.2079 - accuracy: 0.5238\n",
      "Epoch 13/30\n",
      "436/436 [==============================] - ETA: 0s - loss: 0.2283 - accuracy: 0.5241WARNING:tensorflow:Early stopping conditioned on metric `val_loss` which is not available. Available metrics are: loss,accuracy\n",
      "WARNING:tensorflow:Can save best model only with val_loss available, skipping.\n",
      "436/436 [==============================] - 9s 20ms/step - loss: 0.2283 - accuracy: 0.5241\n",
      "Epoch 14/30\n",
      "436/436 [==============================] - ETA: 0s - loss: 0.2038 - accuracy: 0.5469WARNING:tensorflow:Early stopping conditioned on metric `val_loss` which is not available. Available metrics are: loss,accuracy\n",
      "WARNING:tensorflow:Can save best model only with val_loss available, skipping.\n",
      "436/436 [==============================] - 9s 20ms/step - loss: 0.2038 - accuracy: 0.5469\n",
      "Epoch 15/30\n",
      "436/436 [==============================] - ETA: 0s - loss: 0.2066 - accuracy: 0.5562WARNING:tensorflow:Early stopping conditioned on metric `val_loss` which is not available. Available metrics are: loss,accuracy\n",
      "WARNING:tensorflow:Can save best model only with val_loss available, skipping.\n",
      "436/436 [==============================] - 8s 19ms/step - loss: 0.2066 - accuracy: 0.5562\n",
      "Epoch 16/30\n",
      "436/436 [==============================] - ETA: 0s - loss: 0.1996 - accuracy: 0.5618WARNING:tensorflow:Early stopping conditioned on metric `val_loss` which is not available. Available metrics are: loss,accuracy\n",
      "WARNING:tensorflow:Can save best model only with val_loss available, skipping.\n",
      "436/436 [==============================] - 9s 20ms/step - loss: 0.1996 - accuracy: 0.5618\n",
      "Epoch 17/30\n",
      "436/436 [==============================] - ETA: 0s - loss: 0.1995 - accuracy: 0.5682WARNING:tensorflow:Early stopping conditioned on metric `val_loss` which is not available. Available metrics are: loss,accuracy\n",
      "WARNING:tensorflow:Can save best model only with val_loss available, skipping.\n",
      "436/436 [==============================] - 9s 20ms/step - loss: 0.1995 - accuracy: 0.5682\n",
      "Epoch 18/30\n",
      "436/436 [==============================] - ETA: 0s - loss: 0.2361 - accuracy: 0.5664WARNING:tensorflow:Early stopping conditioned on metric `val_loss` which is not available. Available metrics are: loss,accuracy\n",
      "WARNING:tensorflow:Can save best model only with val_loss available, skipping.\n",
      "436/436 [==============================] - 9s 20ms/step - loss: 0.2361 - accuracy: 0.5664\n",
      "Epoch 19/30\n",
      "436/436 [==============================] - ETA: 0s - loss: 0.2006 - accuracy: 0.5839 ETA: 0s - loss: 0.2011 - WARNING:tensorflow:Early stopping conditioned on metric `val_loss` which is not available. Available metrics are: loss,accuracy\n",
      "WARNING:tensorflow:Can save best model only with val_loss available, skipping.\n",
      "436/436 [==============================] - 9s 20ms/step - loss: 0.2006 - accuracy: 0.5839\n",
      "Epoch 20/30\n",
      "436/436 [==============================] - ETA: 0s - loss: 0.2379 - accuracy: 0.5675WARNING:tensorflow:Early stopping conditioned on metric `val_loss` which is not available. Available metrics are: loss,accuracy\n",
      "WARNING:tensorflow:Can save best model only with val_loss available, skipping.\n",
      "436/436 [==============================] - 9s 20ms/step - loss: 0.2379 - accuracy: 0.5675\n",
      "Epoch 21/30\n",
      "436/436 [==============================] - ETA: 0s - loss: 0.1935 - accuracy: 0.5973WARNING:tensorflow:Early stopping conditioned on metric `val_loss` which is not available. Available metrics are: loss,accuracy\n",
      "WARNING:tensorflow:Can save best model only with val_loss available, skipping.\n",
      "436/436 [==============================] - 9s 20ms/step - loss: 0.1935 - accuracy: 0.5973\n"
     ]
    },
    {
     "name": "stdout",
     "output_type": "stream",
     "text": [
      "Epoch 22/30\n",
      "436/436 [==============================] - ETA: 0s - loss: 0.1907 - accuracy: 0.6007WARNING:tensorflow:Early stopping conditioned on metric `val_loss` which is not available. Available metrics are: loss,accuracy\n",
      "WARNING:tensorflow:Can save best model only with val_loss available, skipping.\n",
      "436/436 [==============================] - 9s 20ms/step - loss: 0.1907 - accuracy: 0.6007\n",
      "Epoch 23/30\n",
      "436/436 [==============================] - ETA: 0s - loss: 0.1931 - accuracy: 0.6087WARNING:tensorflow:Early stopping conditioned on metric `val_loss` which is not available. Available metrics are: loss,accuracy\n",
      "WARNING:tensorflow:Can save best model only with val_loss available, skipping.\n",
      "436/436 [==============================] - 8s 19ms/step - loss: 0.1931 - accuracy: 0.6087\n",
      "Epoch 24/30\n",
      "436/436 [==============================] - ETA: 0s - loss: 0.2268 - accuracy: 0.5985WARNING:tensorflow:Early stopping conditioned on metric `val_loss` which is not available. Available metrics are: loss,accuracy\n",
      "WARNING:tensorflow:Can save best model only with val_loss available, skipping.\n",
      "436/436 [==============================] - 8s 19ms/step - loss: 0.2268 - accuracy: 0.5985\n",
      "Epoch 25/30\n",
      "436/436 [==============================] - ETA: 0s - loss: 0.1971 - accuracy: 0.6152WARNING:tensorflow:Early stopping conditioned on metric `val_loss` which is not available. Available metrics are: loss,accuracy\n",
      "WARNING:tensorflow:Can save best model only with val_loss available, skipping.\n",
      "436/436 [==============================] - 9s 20ms/step - loss: 0.1971 - accuracy: 0.6152\n",
      "Epoch 26/30\n",
      "436/436 [==============================] - ETA: 0s - loss: 0.2268 - accuracy: 0.6004 ETA: 1s - loss: 0.2336 - accura -WARNING:tensorflow:Early stopping conditioned on metric `val_loss` which is not available. Available metrics are: loss,accuracy\n",
      "WARNING:tensorflow:Can save best model only with val_loss available, skipping.\n",
      "436/436 [==============================] - 9s 20ms/step - loss: 0.2268 - accuracy: 0.6004\n",
      "Epoch 27/30\n",
      "436/436 [==============================] - ETA: 0s - loss: 0.2310 - accuracy: 0.6062WARNING:tensorflow:Early stopping conditioned on metric `val_loss` which is not available. Available metrics are: loss,accuracy\n",
      "WARNING:tensorflow:Can save best model only with val_loss available, skipping.\n",
      "436/436 [==============================] - 9s 20ms/step - loss: 0.2310 - accuracy: 0.6062\n",
      "Epoch 28/30\n",
      "436/436 [==============================] - ETA: 0s - loss: 0.1864 - accuracy: 0.6308WARNING:tensorflow:Early stopping conditioned on metric `val_loss` which is not available. Available metrics are: loss,accuracy\n",
      "WARNING:tensorflow:Can save best model only with val_loss available, skipping.\n",
      "436/436 [==============================] - 9s 20ms/step - loss: 0.1864 - accuracy: 0.6308\n",
      "Epoch 29/30\n",
      "436/436 [==============================] - ETA: 0s - loss: 0.2063 - accuracy: 0.6161WARNING:tensorflow:Early stopping conditioned on metric `val_loss` which is not available. Available metrics are: loss,accuracy\n",
      "WARNING:tensorflow:Can save best model only with val_loss available, skipping.\n",
      "436/436 [==============================] - 9s 20ms/step - loss: 0.2063 - accuracy: 0.6161\n",
      "Epoch 30/30\n",
      "436/436 [==============================] - ETA: 0s - loss: 0.1865 - accuracy: 0.6363WARNING:tensorflow:Early stopping conditioned on metric `val_loss` which is not available. Available metrics are: loss,accuracy\n",
      "WARNING:tensorflow:Can save best model only with val_loss available, skipping.\n",
      "436/436 [==============================] - 9s 20ms/step - loss: 0.1865 - accuracy: 0.6363\n"
     ]
    }
   ],
   "source": [
    "# Set callback functions to early stop training and save the best model so far\n",
    "callbacks = [EarlyStopping(monitor='val_loss', patience=10),\n",
    "         ModelCheckpoint(filepath='best_model.h5', monitor='val_loss', save_best_only=True)]\n",
    "\n",
    "# training the model\n",
    "history = model.fit(x_train,y_train, epochs=30, verbose=1, callbacks=callbacks)"
   ]
  },
  {
   "cell_type": "code",
   "execution_count": 1,
   "metadata": {},
   "outputs": [],
   "source": [
    "# saving model\n",
    "\n",
    "from keras.models import load_model\n",
    "model = load_model('best_model.h5')"
   ]
  },
  {
   "cell_type": "code",
   "execution_count": 46,
   "metadata": {},
   "outputs": [],
   "source": [
    "result = model.predict(x_test)"
   ]
  },
  {
   "cell_type": "code",
   "execution_count": null,
   "metadata": {},
   "outputs": [],
   "source": [
    "# loading predictions file\n",
    "\n",
    "prediction_df = pd.read_csv(\"s1234567_predictions.csv\")"
   ]
  },
  {
   "cell_type": "code",
   "execution_count": null,
   "metadata": {},
   "outputs": [],
   "source": [
    "for i in range(result.shape[0]):\n",
    "    prediction_df.tilt[i] = le1.classes_[np.argmax(result[i][0:9])]\n",
    "    prediction_df.pan[i] = le2.classes_[np.argmax(result[i][9:])]"
   ]
  },
  {
   "cell_type": "code",
   "execution_count": null,
   "metadata": {},
   "outputs": [],
   "source": [
    "prediction_df.to_csv(\"s3796258_predictions.csv\", sep='\\t')"
   ]
  }
 ],
 "metadata": {
  "kernelspec": {
   "display_name": "Python 3",
   "language": "python",
   "name": "python3"
  },
  "language_info": {
   "codemirror_mode": {
    "name": "ipython",
    "version": 3
   },
   "file_extension": ".py",
   "mimetype": "text/x-python",
   "name": "python",
   "nbconvert_exporter": "python",
   "pygments_lexer": "ipython3",
   "version": "3.7.6"
  }
 },
 "nbformat": 4,
 "nbformat_minor": 4
}
